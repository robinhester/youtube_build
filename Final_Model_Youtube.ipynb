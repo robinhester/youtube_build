{
  "nbformat": 4,
  "nbformat_minor": 0,
  "metadata": {
    "colab": {
      "name": "Final_Model_Youtube.ipynb",
      "provenance": [],
      "collapsed_sections": []
    },
    "kernelspec": {
      "name": "python3",
      "display_name": "Python 3"
    }
  },
  "cells": [
    {
      "cell_type": "code",
      "metadata": {
        "id": "lKbTmRBGQJ34",
        "colab_type": "code",
        "outputId": "2218bfe6-3a49-4699-a202-3d84db0e977f",
        "colab": {
          "base_uri": "https://localhost:8080/",
          "height": 224
        }
      },
      "source": [
        "pip install category_encoders"
      ],
      "execution_count": 0,
      "outputs": [
        {
          "output_type": "stream",
          "text": [
            "Requirement already satisfied: category_encoders in /usr/local/lib/python3.6/dist-packages (2.2.2)\n",
            "Requirement already satisfied: patsy>=0.5.1 in /usr/local/lib/python3.6/dist-packages (from category_encoders) (0.5.1)\n",
            "Requirement already satisfied: numpy>=1.14.0 in /usr/local/lib/python3.6/dist-packages (from category_encoders) (1.18.3)\n",
            "Requirement already satisfied: statsmodels>=0.9.0 in /usr/local/lib/python3.6/dist-packages (from category_encoders) (0.10.2)\n",
            "Requirement already satisfied: scikit-learn>=0.20.0 in /usr/local/lib/python3.6/dist-packages (from category_encoders) (0.22.2.post1)\n",
            "Requirement already satisfied: scipy>=1.0.0 in /usr/local/lib/python3.6/dist-packages (from category_encoders) (1.4.1)\n",
            "Requirement already satisfied: pandas>=0.21.1 in /usr/local/lib/python3.6/dist-packages (from category_encoders) (1.0.3)\n",
            "Requirement already satisfied: six in /usr/local/lib/python3.6/dist-packages (from patsy>=0.5.1->category_encoders) (1.12.0)\n",
            "Requirement already satisfied: joblib>=0.11 in /usr/local/lib/python3.6/dist-packages (from scikit-learn>=0.20.0->category_encoders) (0.14.1)\n",
            "Requirement already satisfied: python-dateutil>=2.6.1 in /usr/local/lib/python3.6/dist-packages (from pandas>=0.21.1->category_encoders) (2.8.1)\n",
            "Requirement already satisfied: pytz>=2017.2 in /usr/local/lib/python3.6/dist-packages (from pandas>=0.21.1->category_encoders) (2018.9)\n"
          ],
          "name": "stdout"
        }
      ]
    },
    {
      "cell_type": "code",
      "metadata": {
        "id": "aVAPcwX4IneE",
        "colab_type": "code",
        "outputId": "3d354997-9123-482d-faef-1b8eb80186b9",
        "colab": {
          "base_uri": "https://localhost:8080/",
          "height": 292
        }
      },
      "source": [
        "pip install eli5"
      ],
      "execution_count": 0,
      "outputs": [
        {
          "output_type": "stream",
          "text": [
            "Collecting eli5\n",
            "\u001b[?25l  Downloading https://files.pythonhosted.org/packages/97/2f/c85c7d8f8548e460829971785347e14e45fa5c6617da374711dec8cb38cc/eli5-0.10.1-py2.py3-none-any.whl (105kB)\n",
            "\r\u001b[K     |███                             | 10kB 20.8MB/s eta 0:00:01\r\u001b[K     |██████▏                         | 20kB 1.7MB/s eta 0:00:01\r\u001b[K     |█████████▎                      | 30kB 2.5MB/s eta 0:00:01\r\u001b[K     |████████████▍                   | 40kB 1.7MB/s eta 0:00:01\r\u001b[K     |███████████████▌                | 51kB 2.1MB/s eta 0:00:01\r\u001b[K     |██████████████████▋             | 61kB 2.5MB/s eta 0:00:01\r\u001b[K     |█████████████████████▊          | 71kB 2.9MB/s eta 0:00:01\r\u001b[K     |████████████████████████▊       | 81kB 2.2MB/s eta 0:00:01\r\u001b[K     |███████████████████████████▉    | 92kB 2.5MB/s eta 0:00:01\r\u001b[K     |███████████████████████████████ | 102kB 2.8MB/s eta 0:00:01\r\u001b[K     |████████████████████████████████| 112kB 2.8MB/s \n",
            "\u001b[?25hRequirement already satisfied: scikit-learn>=0.18 in /usr/local/lib/python3.6/dist-packages (from eli5) (0.22.2.post1)\n",
            "Requirement already satisfied: scipy in /usr/local/lib/python3.6/dist-packages (from eli5) (1.4.1)\n",
            "Requirement already satisfied: attrs>16.0.0 in /usr/local/lib/python3.6/dist-packages (from eli5) (19.3.0)\n",
            "Requirement already satisfied: numpy>=1.9.0 in /usr/local/lib/python3.6/dist-packages (from eli5) (1.18.3)\n",
            "Requirement already satisfied: jinja2 in /usr/local/lib/python3.6/dist-packages (from eli5) (2.11.2)\n",
            "Requirement already satisfied: tabulate>=0.7.7 in /usr/local/lib/python3.6/dist-packages (from eli5) (0.8.7)\n",
            "Requirement already satisfied: six in /usr/local/lib/python3.6/dist-packages (from eli5) (1.12.0)\n",
            "Requirement already satisfied: graphviz in /usr/local/lib/python3.6/dist-packages (from eli5) (0.10.1)\n",
            "Requirement already satisfied: joblib>=0.11 in /usr/local/lib/python3.6/dist-packages (from scikit-learn>=0.18->eli5) (0.14.1)\n",
            "Requirement already satisfied: MarkupSafe>=0.23 in /usr/local/lib/python3.6/dist-packages (from jinja2->eli5) (1.1.1)\n",
            "Installing collected packages: eli5\n",
            "Successfully installed eli5-0.10.1\n"
          ],
          "name": "stdout"
        }
      ]
    },
    {
      "cell_type": "code",
      "metadata": {
        "id": "xjk_WAk8Ijgm",
        "colab_type": "code",
        "outputId": "fca5335b-78fd-4d22-d631-08f49fedf96a",
        "colab": {
          "base_uri": "https://localhost:8080/",
          "height": 190
        }
      },
      "source": [
        "import eli5\n",
        "from eli5.sklearn import PermutationImportance"
      ],
      "execution_count": 0,
      "outputs": [
        {
          "output_type": "stream",
          "text": [
            "/usr/local/lib/python3.6/dist-packages/sklearn/utils/deprecation.py:144: FutureWarning:\n",
            "\n",
            "The sklearn.metrics.scorer module is  deprecated in version 0.22 and will be removed in version 0.24. The corresponding classes / functions should instead be imported from sklearn.metrics. Anything that cannot be imported from sklearn.metrics is now part of the private API.\n",
            "\n",
            "/usr/local/lib/python3.6/dist-packages/sklearn/utils/deprecation.py:144: FutureWarning:\n",
            "\n",
            "The sklearn.feature_selection.base module is  deprecated in version 0.22 and will be removed in version 0.24. The corresponding classes / functions should instead be imported from sklearn.feature_selection. Anything that cannot be imported from sklearn.feature_selection is now part of the private API.\n",
            "\n",
            "Using TensorFlow backend.\n"
          ],
          "name": "stderr"
        }
      ]
    },
    {
      "cell_type": "code",
      "metadata": {
        "id": "z9g8IQHgP-Op",
        "colab_type": "code",
        "outputId": "1baa3b9f-f8ff-47ef-f35c-08142bc06d3d",
        "colab": {
          "base_uri": "https://localhost:8080/",
          "height": 71
        }
      },
      "source": [
        "import pandas as pd \n",
        "import category_encoders as ce\n",
        "from sklearn.pipeline import make_pipeline\n",
        "from sklearn.impute import SimpleImputer\n",
        "from sklearn.ensemble import RandomForestRegressor\n",
        "from sklearn.metrics import mean_absolute_error\n",
        "from sklearn.linear_model import LinearRegression \n",
        "import numpy as np\n",
        "from sklearn.feature_selection import f_regression, SelectKBest\n",
        "from sklearn.impute import SimpleImputer\n",
        "from sklearn.linear_model import Ridge\n",
        "from sklearn.model_selection import cross_val_score\n",
        "from sklearn.preprocessing import StandardScaler\n",
        "%matplotlib inline\n",
        "import matplotlib.pyplot as plt\n",
        "from sklearn.model_selection import validation_curve\n",
        "from sklearn.model_selection import GridSearchCV, RandomizedSearchCV\n",
        "from sklearn import metrics\n",
        "from sklearn.model_selection import train_test_split\n",
        "import plotly.graph_objs as go\n",
        "import seaborn as sns\n",
        "from sklearn.linear_model import LinearRegression \n",
        "from sklearn.linear_model import LogisticRegression\n",
        "from sklearn.tree import DecisionTreeRegressor, export_graphviz"
      ],
      "execution_count": 0,
      "outputs": [
        {
          "output_type": "stream",
          "text": [
            "/usr/local/lib/python3.6/dist-packages/statsmodels/tools/_testing.py:19: FutureWarning: pandas.util.testing is deprecated. Use the functions in the public API at pandas.testing instead.\n",
            "  import pandas.util.testing as tm\n"
          ],
          "name": "stderr"
        }
      ]
    },
    {
      "cell_type": "code",
      "metadata": {
        "id": "zWq14WgPQTNi",
        "colab_type": "code",
        "colab": {}
      },
      "source": [
        "youtube=pd.read_csv('YouTube.csv')"
      ],
      "execution_count": 0,
      "outputs": []
    },
    {
      "cell_type": "code",
      "metadata": {
        "id": "--mTQXP5QTWx",
        "colab_type": "code",
        "colab": {}
      },
      "source": [
        "def data_wrangle(X):\n",
        "  X=X.copy()\n",
        "  #columns to be deleted(high cardinality)\n",
        "  deleted=['web-scraper-order','web-scraper-start-url','userID',\n",
        "           'userID-href','YouTube_Link','YouTube_Link-href',\n",
        "           'TwitterHandle','TwitterHandle-href','InstagramHandle',\n",
        "           'InstagramHandle-href']\n",
        "\n",
        "  X=X.drop(columns=deleted)\n",
        "  #split columns from ranges into seperate columns\n",
        "  X[['monthly_lower_range','monthly_higher_range']]=X.MonthlyEarnings.str.split(\"-\",expand=True)\n",
        "  X[['yearly_lower_range','yearly_higher_range']]=X.YearlyEarnings.str.split(\"-\", expand=True)\n",
        "\n",
        "  #delete original columns\n",
        "  wages=['MonthlyEarnings','YearlyEarnings']\n",
        "  X=X.drop(columns=wages)\n",
        "\n",
        "  col_with_dollar=['monthly_lower_range','monthly_higher_range',\n",
        "                   'yearly_lower_range','yearly_higher_range']\n",
        "  for col in col_with_dollar:\n",
        "      X[col] = X[col].str.replace('$', '')\n",
        "\n",
        "  col_with_k=['monthly_lower_range','monthly_higher_range',\n",
        "              'yearly_lower_range','yearly_higher_range']\n",
        "  for col in col_with_k:\n",
        "    X[col]=X[col].str.replace('K','00')\n",
        "\n",
        "  col_with_m=['monthly_lower_range','monthly_higher_range',\n",
        "              'yearly_lower_range','yearly_higher_range']\n",
        "  for col in col_with_m:\n",
        "    X[col]=X[col].str.replace('M','00000')\n",
        "\n",
        "  col_with_decimal=['monthly_lower_range','monthly_higher_range',\n",
        "                    'yearly_lower_range','yearly_higher_range']\n",
        "  for col in col_with_decimal:\n",
        "    X[col]=X[col].str.replace('.','')  \n",
        "\n",
        "  col_convert=['monthly_lower_range','monthly_higher_range',\n",
        "               'yearly_lower_range','yearly_higher_range']\n",
        "  for col in col_convert:\n",
        "    X[col]=X[col].astype(float)*1.08\n",
        "\n",
        "  col_nan=['monthly_lower_range','monthly_higher_range',\n",
        "               'yearly_lower_range','yearly_higher_range']  \n",
        "  for col in col_nan:\n",
        "    X[col]=X[col].replace(np.NaN,0)\n",
        "\n",
        "  X['yearly_average']=X.yearly_lower_range + X.yearly_higher_range/ 2\n",
        "  X['monthly_average']=X.yearly_average/12\n",
        "\n",
        "  X=X[X['monthly_lower_range']>1000]\n",
        "  X=X[X['yearly_lower_range']>0]\n",
        "\n",
        "\n",
        "\n",
        "  top10=X['channeltype'].value_counts()[:10].index\n",
        "  X.loc[~X['channeltype'].isin(top10),'channeltype']=='Other'\n",
        "\n",
        "  X['usercreated']=pd.to_datetime(X['usercreated'])\n",
        "  X['yearcreated']=X['usercreated'].dt.year\n",
        "  X=X.drop(columns='usercreated')\n",
        "  \n",
        "  X=X.set_index(keys='name')\n",
        "\n",
        "\n",
        "\n",
        "  return X"
      ],
      "execution_count": 0,
      "outputs": []
    },
    {
      "cell_type": "code",
      "metadata": {
        "id": "QX-00P2sQTe9",
        "colab_type": "code",
        "colab": {}
      },
      "source": [
        "youtube=data_wrangle(youtube)"
      ],
      "execution_count": 0,
      "outputs": []
    },
    {
      "cell_type": "code",
      "metadata": {
        "id": "Y2K_aaZ24dLv",
        "colab_type": "code",
        "colab": {}
      },
      "source": [
        "train=youtube.copy()\n",
        "train, test = train_test_split(train, train_size=.80, test_size=.20, \n",
        "                               random_state=42)"
      ],
      "execution_count": 0,
      "outputs": []
    },
    {
      "cell_type": "code",
      "metadata": {
        "id": "_YlnyCYMQTnI",
        "colab_type": "code",
        "colab": {}
      },
      "source": [
        "train, val = train_test_split(train, test_size=.20, \n",
        "                              random_state=42)"
      ],
      "execution_count": 0,
      "outputs": []
    },
    {
      "cell_type": "code",
      "metadata": {
        "id": "eP1EPwQk5Cyw",
        "colab_type": "code",
        "outputId": "3f626401-3aa1-480d-b8a5-b29ee5a2cc8b",
        "colab": {
          "base_uri": "https://localhost:8080/",
          "height": 34
        }
      },
      "source": [
        "train.shape, val.shape, test.shape"
      ],
      "execution_count": 0,
      "outputs": [
        {
          "output_type": "execute_result",
          "data": {
            "text/plain": [
              "((1868, 14), (468, 14), (585, 14))"
            ]
          },
          "metadata": {
            "tags": []
          },
          "execution_count": 8
        }
      ]
    },
    {
      "cell_type": "code",
      "metadata": {
        "id": "YHdlUhoIQEN5",
        "colab_type": "code",
        "colab": {}
      },
      "source": [
        "leakage=['monthly_lower_range','monthly_higher_range','yearly_lower_range','yearly_average','yearly_higher_range']\n",
        "train=train.drop(columns=leakage)\n",
        "val=val.drop(columns=leakage)\n",
        "test=test.drop(columns=leakage)"
      ],
      "execution_count": 0,
      "outputs": []
    },
    {
      "cell_type": "code",
      "metadata": {
        "id": "9Gu_x-YoGJT2",
        "colab_type": "code",
        "colab": {}
      },
      "source": [
        "target='monthly_average'\n",
        "features= train.drop(columns=[target]).columns\n",
        "# print(features)\n",
        "x_train=train[features]\n",
        "y_train=train[target]\n",
        "# y_train\n",
        "x_val=val[features]\n",
        "y_val=val[target]\n",
        "#x_test\n",
        "x_test=test[features]\n",
        "y_test=test[target]\n"
      ],
      "execution_count": 0,
      "outputs": []
    },
    {
      "cell_type": "code",
      "metadata": {
        "id": "nuIlWwQbGMCP",
        "colab_type": "code",
        "colab": {}
      },
      "source": [
        "#test needs to always be first\n",
        "def accuracy_test(x,y):\n",
        "  errors = abs(y - x)\n",
        "  accuracy=errors/x\n",
        "  accuracy_mean=np.mean(100 * (errors / x))\n",
        "\n",
        "  return(accuracy_mean)\n"
      ],
      "execution_count": 0,
      "outputs": []
    },
    {
      "cell_type": "code",
      "metadata": {
        "id": "nbHjL_DiGPVQ",
        "colab_type": "code",
        "outputId": "f01b14f4-c51b-4fe1-b3ab-877f428de3ff",
        "colab": {
          "base_uri": "https://localhost:8080/",
          "height": 34
        }
      },
      "source": [
        "pipeline = make_pipeline(\n",
        "    ce.OrdinalEncoder(), \n",
        "    SimpleImputer(strategy='mean'), \n",
        "    StandardScaler(), \n",
        "    RandomForestRegressor(n_estimators=709, max_depth=1163, criterion='mae', min_samples_leaf=4)\n",
        ")\n",
        "\n",
        "pipeline.fit(x_train,y_train)\n",
        "y_pred=pipeline.predict(x_val)\n",
        "\n",
        "accuracy_test(y_val,y_pred)"
      ],
      "execution_count": 0,
      "outputs": [
        {
          "output_type": "execute_result",
          "data": {
            "text/plain": [
              "63.221215198309345"
            ]
          },
          "metadata": {
            "tags": []
          },
          "execution_count": 12
        }
      ]
    },
    {
      "cell_type": "code",
      "metadata": {
        "id": "7D8t94s9GVNr",
        "colab_type": "code",
        "outputId": "9f133859-12b3-4be9-d661-7c980539575f",
        "colab": {
          "base_uri": "https://localhost:8080/",
          "height": 170
        }
      },
      "source": [
        "transformers = make_pipeline(\n",
        "    ce.OrdinalEncoder(), \n",
        "    SimpleImputer(strategy='median'),\n",
        "    StandardScaler() \n",
        ")\n",
        "\n",
        "x_train_transformed = transformers.fit_transform(x_train)\n",
        "x_val_transformed = transformers.transform(x_val)\n",
        "\n",
        "model = RandomForestRegressor(n_estimators=709, max_depth=1163,\n",
        "                              random_state=42, criterion='mae', n_jobs=-1,\n",
        "                              min_samples_leaf=4)\n",
        "model.fit(x_train_transformed, y_train)\n",
        "\n",
        "\n",
        "permuter = PermutationImportance(\n",
        "    model,\n",
        "    n_iter=5,\n",
        "    random_state=42\n",
        ")\n",
        "\n",
        "permuter.fit(x_val_transformed, y_val)\n",
        "\n",
        "feature_names = x_val.columns.tolist()\n",
        "pd.Series(permuter.feature_importances_, feature_names).sort_values()\n",
        "\n",
        "eli5.show_weights(\n",
        "    permuter,\n",
        "    top=None,\n",
        "    feature_names=feature_names\n",
        ")"
      ],
      "execution_count": 0,
      "outputs": [
        {
          "output_type": "execute_result",
          "data": {
            "text/html": [
              "\n",
              "    <style>\n",
              "    table.eli5-weights tr:hover {\n",
              "        filter: brightness(85%);\n",
              "    }\n",
              "</style>\n",
              "\n",
              "\n",
              "\n",
              "    \n",
              "\n",
              "    \n",
              "\n",
              "    \n",
              "\n",
              "    \n",
              "\n",
              "    \n",
              "\n",
              "    \n",
              "\n",
              "\n",
              "    \n",
              "\n",
              "    \n",
              "\n",
              "    \n",
              "\n",
              "    \n",
              "\n",
              "    \n",
              "\n",
              "    \n",
              "\n",
              "\n",
              "    \n",
              "\n",
              "    \n",
              "\n",
              "    \n",
              "\n",
              "    \n",
              "\n",
              "    \n",
              "        <table class=\"eli5-weights eli5-feature-importances\" style=\"border-collapse: collapse; border: none; margin-top: 0em; table-layout: auto;\">\n",
              "    <thead>\n",
              "    <tr style=\"border: none;\">\n",
              "        <th style=\"padding: 0 1em 0 0.5em; text-align: right; border: none;\">Weight</th>\n",
              "        <th style=\"padding: 0 0.5em 0 0.5em; text-align: left; border: none;\">Feature</th>\n",
              "    </tr>\n",
              "    </thead>\n",
              "    <tbody>\n",
              "    \n",
              "        <tr style=\"background-color: hsl(120, 100.00%, 80.00%); border: none;\">\n",
              "            <td style=\"padding: 0 1em 0 0.5em; text-align: right; border: none;\">\n",
              "                1.0062\n",
              "                \n",
              "                    &plusmn; 0.1089\n",
              "                \n",
              "            </td>\n",
              "            <td style=\"padding: 0 0.5em 0 0.5em; text-align: left; border: none;\">\n",
              "                grade\n",
              "            </td>\n",
              "        </tr>\n",
              "    \n",
              "        <tr style=\"background-color: hsl(120, 100.00%, 96.09%); border: none;\">\n",
              "            <td style=\"padding: 0 1em 0 0.5em; text-align: right; border: none;\">\n",
              "                0.0977\n",
              "                \n",
              "                    &plusmn; 0.0305\n",
              "                \n",
              "            </td>\n",
              "            <td style=\"padding: 0 0.5em 0 0.5em; text-align: left; border: none;\">\n",
              "                videoviews\n",
              "            </td>\n",
              "        </tr>\n",
              "    \n",
              "        <tr style=\"background-color: hsl(120, 100.00%, 98.83%); border: none;\">\n",
              "            <td style=\"padding: 0 1em 0 0.5em; text-align: right; border: none;\">\n",
              "                0.0174\n",
              "                \n",
              "                    &plusmn; 0.0150\n",
              "                \n",
              "            </td>\n",
              "            <td style=\"padding: 0 0.5em 0 0.5em; text-align: left; border: none;\">\n",
              "                subscribers\n",
              "            </td>\n",
              "        </tr>\n",
              "    \n",
              "        <tr style=\"background-color: hsl(120, 100.00%, 99.11%); border: none;\">\n",
              "            <td style=\"padding: 0 1em 0 0.5em; text-align: right; border: none;\">\n",
              "                0.0118\n",
              "                \n",
              "                    &plusmn; 0.0073\n",
              "                \n",
              "            </td>\n",
              "            <td style=\"padding: 0 0.5em 0 0.5em; text-align: left; border: none;\">\n",
              "                country\n",
              "            </td>\n",
              "        </tr>\n",
              "    \n",
              "        <tr style=\"background-color: hsl(120, 100.00%, 99.56%); border: none;\">\n",
              "            <td style=\"padding: 0 1em 0 0.5em; text-align: right; border: none;\">\n",
              "                0.0043\n",
              "                \n",
              "                    &plusmn; 0.0040\n",
              "                \n",
              "            </td>\n",
              "            <td style=\"padding: 0 0.5em 0 0.5em; text-align: left; border: none;\">\n",
              "                channeltype\n",
              "            </td>\n",
              "        </tr>\n",
              "    \n",
              "        <tr style=\"background-color: hsl(120, 100.00%, 99.72%); border: none;\">\n",
              "            <td style=\"padding: 0 1em 0 0.5em; text-align: right; border: none;\">\n",
              "                0.0022\n",
              "                \n",
              "                    &plusmn; 0.0132\n",
              "                \n",
              "            </td>\n",
              "            <td style=\"padding: 0 0.5em 0 0.5em; text-align: left; border: none;\">\n",
              "                uploads\n",
              "            </td>\n",
              "        </tr>\n",
              "    \n",
              "        <tr style=\"background-color: hsl(120, 100.00%, 99.88%); border: none;\">\n",
              "            <td style=\"padding: 0 1em 0 0.5em; text-align: right; border: none;\">\n",
              "                0.0007\n",
              "                \n",
              "                    &plusmn; 0.0075\n",
              "                \n",
              "            </td>\n",
              "            <td style=\"padding: 0 0.5em 0 0.5em; text-align: left; border: none;\">\n",
              "                yearcreated\n",
              "            </td>\n",
              "        </tr>\n",
              "    \n",
              "        <tr style=\"background-color: hsl(0, 100.00%, 99.68%); border: none;\">\n",
              "            <td style=\"padding: 0 1em 0 0.5em; text-align: right; border: none;\">\n",
              "                -0.0027\n",
              "                \n",
              "                    &plusmn; 0.0145\n",
              "                \n",
              "            </td>\n",
              "            <td style=\"padding: 0 0.5em 0 0.5em; text-align: left; border: none;\">\n",
              "                years_around\n",
              "            </td>\n",
              "        </tr>\n",
              "    \n",
              "    \n",
              "    </tbody>\n",
              "</table>\n",
              "    \n",
              "\n",
              "    \n",
              "\n",
              "\n",
              "    \n",
              "\n",
              "    \n",
              "\n",
              "    \n",
              "\n",
              "    \n",
              "\n",
              "    \n",
              "\n",
              "    \n",
              "\n",
              "\n",
              "\n"
            ],
            "text/plain": [
              "<IPython.core.display.HTML object>"
            ]
          },
          "metadata": {
            "tags": []
          },
          "execution_count": 15
        }
      ]
    },
    {
      "cell_type": "code",
      "metadata": {
        "id": "N6TcUw4xIy5b",
        "colab_type": "code",
        "colab": {}
      },
      "source": [
        "x_train=x_train.drop(columns='years_around')\n",
        "x_val=x_val.drop(columns='years_around')\n",
        "x_test=x_test.drop(columns='years_around')"
      ],
      "execution_count": 0,
      "outputs": []
    },
    {
      "cell_type": "code",
      "metadata": {
        "id": "1_axCEDXKIge",
        "colab_type": "code",
        "outputId": "58cb81eb-1c31-42bf-ef95-36a4bbca8e77",
        "colab": {
          "base_uri": "https://localhost:8080/",
          "height": 34
        }
      },
      "source": [
        "pipeline = make_pipeline(\n",
        "    ce.OrdinalEncoder(), \n",
        "    SimpleImputer(strategy='mean'), \n",
        "    StandardScaler(), \n",
        "    RandomForestRegressor(n_estimators=709, max_depth=1163, criterion='mae', min_samples_leaf=4)\n",
        ")\n",
        "\n",
        "pipeline.fit(x_train,y_train)\n",
        "y_pred=pipeline.predict(x_val)\n",
        "\n",
        "accuracy_test(y_val,y_pred)"
      ],
      "execution_count": 0,
      "outputs": [
        {
          "output_type": "execute_result",
          "data": {
            "text/plain": [
              "63.159489828253854"
            ]
          },
          "metadata": {
            "tags": []
          },
          "execution_count": 17
        }
      ]
    },
    {
      "cell_type": "code",
      "metadata": {
        "id": "BHqytVftKMF4",
        "colab_type": "code",
        "colab": {}
      },
      "source": [
        "youtube2=pd.read_csv('YouTube2.csv')"
      ],
      "execution_count": 0,
      "outputs": []
    },
    {
      "cell_type": "code",
      "metadata": {
        "id": "BZ1q1EC6Mt3i",
        "colab_type": "code",
        "colab": {}
      },
      "source": [
        "youtube2=data_wrangle(youtube2)"
      ],
      "execution_count": 0,
      "outputs": []
    },
    {
      "cell_type": "code",
      "metadata": {
        "id": "lsM6gFm7MD2S",
        "colab_type": "code",
        "colab": {}
      },
      "source": [
        "train=youtube2.copy()\n",
        "train, test = train_test_split(train, train_size=.80, test_size=.20, \n",
        "                               random_state=42)"
      ],
      "execution_count": 0,
      "outputs": []
    },
    {
      "cell_type": "code",
      "metadata": {
        "id": "if9WuoEkMPtx",
        "colab_type": "code",
        "colab": {}
      },
      "source": [
        "train, val = train_test_split(train, test_size=.20, \n",
        "                              random_state=42)"
      ],
      "execution_count": 0,
      "outputs": []
    },
    {
      "cell_type": "code",
      "metadata": {
        "id": "bsb1srr-MPz4",
        "colab_type": "code",
        "colab": {}
      },
      "source": [
        "leakage=['monthly_lower_range','years_around','monthly_higher_range',\n",
        "         'yearly_lower_range','yearly_average','yearly_higher_range']\n",
        "train=train.drop(columns=leakage)\n",
        "val=val.drop(columns=leakage)\n",
        "test=test.drop(columns=leakage)"
      ],
      "execution_count": 0,
      "outputs": []
    },
    {
      "cell_type": "code",
      "metadata": {
        "id": "YXCQ_Dl1MPw8",
        "colab_type": "code",
        "colab": {}
      },
      "source": [
        "target='monthly_average'\n",
        "features= train.drop(columns=[target]).columns\n",
        "# print(features)\n",
        "x_train=train[features]\n",
        "y_train=train[target]\n",
        "# y_train\n",
        "x_val=val[features]\n",
        "y_val=val[target]\n",
        "#x_test\n",
        "x_test=test[features]\n",
        "y_test=test[target]\n"
      ],
      "execution_count": 0,
      "outputs": []
    },
    {
      "cell_type": "code",
      "metadata": {
        "id": "H8QcQN9gMlGH",
        "colab_type": "code",
        "outputId": "65e078e7-f9aa-4d48-d4b0-918a9872d765",
        "colab": {
          "base_uri": "https://localhost:8080/",
          "height": 34
        }
      },
      "source": [
        "pipeline = make_pipeline(\n",
        "    ce.OrdinalEncoder(), \n",
        "    SimpleImputer(strategy='mean'), \n",
        "    StandardScaler(), \n",
        "    RandomForestRegressor(n_estimators=709, max_depth=1163, criterion='mae', min_samples_leaf=4)\n",
        ")\n",
        "\n",
        "pipeline.fit(x_train,y_train)\n",
        "y_pred=pipeline.predict(x_val)\n",
        "\n",
        "accuracy_test(y_val,y_pred)"
      ],
      "execution_count": 0,
      "outputs": [
        {
          "output_type": "execute_result",
          "data": {
            "text/plain": [
              "57.861301688299065"
            ]
          },
          "metadata": {
            "tags": []
          },
          "execution_count": 29
        }
      ]
    },
    {
      "cell_type": "code",
      "metadata": {
        "id": "E92VTys9M0_p",
        "colab_type": "code",
        "outputId": "a5c651dd-10da-4b9e-aff0-6b6ee741d542",
        "colab": {
          "base_uri": "https://localhost:8080/",
          "height": 34
        }
      },
      "source": [
        "pipeline = make_pipeline(\n",
        "    ce.OrdinalEncoder(), \n",
        "    SimpleImputer(strategy='mean'), \n",
        "    StandardScaler(), \n",
        "    RandomForestRegressor(n_estimators=709, max_depth=1163, criterion='mae', \n",
        "                          min_samples_leaf=4, n_jobs=-1, random_state=42)\n",
        ")\n",
        "\n",
        "pipeline.fit(x_train,y_train)\n",
        "y_pred=pipeline.predict(x_val)\n",
        "\n",
        "accuracy_test(y_val,y_pred)"
      ],
      "execution_count": 0,
      "outputs": [
        {
          "output_type": "execute_result",
          "data": {
            "text/plain": [
              "53.87948822877065"
            ]
          },
          "metadata": {
            "tags": []
          },
          "execution_count": 37
        }
      ]
    },
    {
      "cell_type": "code",
      "metadata": {
        "id": "FseoXtlfRBuA",
        "colab_type": "code",
        "outputId": "ec22c3b0-893c-4165-8950-9c85846403cd",
        "colab": {
          "base_uri": "https://localhost:8080/",
          "height": 153
        }
      },
      "source": [
        "transformers = make_pipeline(\n",
        "    ce.OrdinalEncoder(), \n",
        "    SimpleImputer(strategy='median'),\n",
        "    StandardScaler() \n",
        ")\n",
        "\n",
        "x_train_transformed = transformers.fit_transform(x_train)\n",
        "x_val_transformed = transformers.transform(x_val)\n",
        "\n",
        "model = RandomForestRegressor(n_estimators=709, max_depth=1163,\n",
        "                              random_state=42, criterion='mae', n_jobs=-1,\n",
        "                              min_samples_leaf=4)\n",
        "model.fit(x_train_transformed, y_train)\n",
        "\n",
        "\n",
        "permuter = PermutationImportance(\n",
        "    model,\n",
        "    n_iter=5,\n",
        "    random_state=42\n",
        ")\n",
        "\n",
        "permuter.fit(x_val_transformed, y_val)\n",
        "\n",
        "feature_names = x_val.columns.tolist()\n",
        "pd.Series(permuter.feature_importances_, feature_names).sort_values()\n",
        "\n",
        "eli5.show_weights(\n",
        "    permuter,\n",
        "    top=None,\n",
        "    feature_names=feature_names\n",
        ")"
      ],
      "execution_count": 0,
      "outputs": [
        {
          "output_type": "execute_result",
          "data": {
            "text/html": [
              "\n",
              "    <style>\n",
              "    table.eli5-weights tr:hover {\n",
              "        filter: brightness(85%);\n",
              "    }\n",
              "</style>\n",
              "\n",
              "\n",
              "\n",
              "    \n",
              "\n",
              "    \n",
              "\n",
              "    \n",
              "\n",
              "    \n",
              "\n",
              "    \n",
              "\n",
              "    \n",
              "\n",
              "\n",
              "    \n",
              "\n",
              "    \n",
              "\n",
              "    \n",
              "\n",
              "    \n",
              "\n",
              "    \n",
              "\n",
              "    \n",
              "\n",
              "\n",
              "    \n",
              "\n",
              "    \n",
              "\n",
              "    \n",
              "\n",
              "    \n",
              "\n",
              "    \n",
              "        <table class=\"eli5-weights eli5-feature-importances\" style=\"border-collapse: collapse; border: none; margin-top: 0em; table-layout: auto;\">\n",
              "    <thead>\n",
              "    <tr style=\"border: none;\">\n",
              "        <th style=\"padding: 0 1em 0 0.5em; text-align: right; border: none;\">Weight</th>\n",
              "        <th style=\"padding: 0 0.5em 0 0.5em; text-align: left; border: none;\">Feature</th>\n",
              "    </tr>\n",
              "    </thead>\n",
              "    <tbody>\n",
              "    \n",
              "        <tr style=\"background-color: hsl(120, 100.00%, 80.00%); border: none;\">\n",
              "            <td style=\"padding: 0 1em 0 0.5em; text-align: right; border: none;\">\n",
              "                0.9329\n",
              "                \n",
              "                    &plusmn; 0.1437\n",
              "                \n",
              "            </td>\n",
              "            <td style=\"padding: 0 0.5em 0 0.5em; text-align: left; border: none;\">\n",
              "                grade\n",
              "            </td>\n",
              "        </tr>\n",
              "    \n",
              "        <tr style=\"background-color: hsl(120, 100.00%, 97.31%); border: none;\">\n",
              "            <td style=\"padding: 0 1em 0 0.5em; text-align: right; border: none;\">\n",
              "                0.0531\n",
              "                \n",
              "                    &plusmn; 0.0178\n",
              "                \n",
              "            </td>\n",
              "            <td style=\"padding: 0 0.5em 0 0.5em; text-align: left; border: none;\">\n",
              "                videoviews\n",
              "            </td>\n",
              "        </tr>\n",
              "    \n",
              "        <tr style=\"background-color: hsl(120, 100.00%, 99.09%); border: none;\">\n",
              "            <td style=\"padding: 0 1em 0 0.5em; text-align: right; border: none;\">\n",
              "                0.0113\n",
              "                \n",
              "                    &plusmn; 0.0089\n",
              "                \n",
              "            </td>\n",
              "            <td style=\"padding: 0 0.5em 0 0.5em; text-align: left; border: none;\">\n",
              "                uploads\n",
              "            </td>\n",
              "        </tr>\n",
              "    \n",
              "        <tr style=\"background-color: hsl(120, 100.00%, 99.19%); border: none;\">\n",
              "            <td style=\"padding: 0 1em 0 0.5em; text-align: right; border: none;\">\n",
              "                0.0096\n",
              "                \n",
              "                    &plusmn; 0.0329\n",
              "                \n",
              "            </td>\n",
              "            <td style=\"padding: 0 0.5em 0 0.5em; text-align: left; border: none;\">\n",
              "                yearcreated\n",
              "            </td>\n",
              "        </tr>\n",
              "    \n",
              "        <tr style=\"background-color: hsl(120, 100.00%, 99.35%); border: none;\">\n",
              "            <td style=\"padding: 0 1em 0 0.5em; text-align: right; border: none;\">\n",
              "                0.0070\n",
              "                \n",
              "                    &plusmn; 0.0115\n",
              "                \n",
              "            </td>\n",
              "            <td style=\"padding: 0 0.5em 0 0.5em; text-align: left; border: none;\">\n",
              "                country\n",
              "            </td>\n",
              "        </tr>\n",
              "    \n",
              "        <tr style=\"background-color: hsl(120, 100.00%, 99.48%); border: none;\">\n",
              "            <td style=\"padding: 0 1em 0 0.5em; text-align: right; border: none;\">\n",
              "                0.0051\n",
              "                \n",
              "                    &plusmn; 0.0166\n",
              "                \n",
              "            </td>\n",
              "            <td style=\"padding: 0 0.5em 0 0.5em; text-align: left; border: none;\">\n",
              "                subscribers\n",
              "            </td>\n",
              "        </tr>\n",
              "    \n",
              "        <tr style=\"background-color: hsl(120, 100.00%, 99.54%); border: none;\">\n",
              "            <td style=\"padding: 0 1em 0 0.5em; text-align: right; border: none;\">\n",
              "                0.0043\n",
              "                \n",
              "                    &plusmn; 0.0042\n",
              "                \n",
              "            </td>\n",
              "            <td style=\"padding: 0 0.5em 0 0.5em; text-align: left; border: none;\">\n",
              "                channeltype\n",
              "            </td>\n",
              "        </tr>\n",
              "    \n",
              "    \n",
              "    </tbody>\n",
              "</table>\n",
              "    \n",
              "\n",
              "    \n",
              "\n",
              "\n",
              "    \n",
              "\n",
              "    \n",
              "\n",
              "    \n",
              "\n",
              "    \n",
              "\n",
              "    \n",
              "\n",
              "    \n",
              "\n",
              "\n",
              "\n"
            ],
            "text/plain": [
              "<IPython.core.display.HTML object>"
            ]
          },
          "metadata": {
            "tags": []
          },
          "execution_count": 38
        }
      ]
    },
    {
      "cell_type": "code",
      "metadata": {
        "id": "r4cGO2wSSZhw",
        "colab_type": "code",
        "outputId": "aee85b89-4ab9-44a4-81ba-8d7a090a002e",
        "colab": {
          "base_uri": "https://localhost:8080/",
          "height": 34
        }
      },
      "source": [
        "pipeline = make_pipeline(\n",
        "    ce.OrdinalEncoder(), \n",
        "    SimpleImputer(strategy='mean'), \n",
        "    RandomForestRegressor(n_estimators=709, max_depth=1163, criterion='mae', \n",
        "                          min_samples_leaf=4, n_jobs=-1, random_state=42)\n",
        ")\n",
        "\n",
        "pipeline.fit(x_train,y_train)\n",
        "y_pred=pipeline.predict(x_val)\n",
        "\n",
        "accuracy_test(y_val,y_pred)"
      ],
      "execution_count": 0,
      "outputs": [
        {
          "output_type": "execute_result",
          "data": {
            "text/plain": [
              "53.870488848654446"
            ]
          },
          "metadata": {
            "tags": []
          },
          "execution_count": 47
        }
      ]
    },
    {
      "cell_type": "code",
      "metadata": {
        "id": "Cn8I4dR3TFra",
        "colab_type": "code",
        "outputId": "4bca7b64-ecc2-4ee9-feba-bea00a5a2744",
        "colab": {
          "base_uri": "https://localhost:8080/",
          "height": 34
        }
      },
      "source": [
        "pipeline = make_pipeline(\n",
        "    ce.OrdinalEncoder(), \n",
        "    SimpleImputer(), \n",
        "    RandomForestRegressor(n_estimators=700, max_depth=1163, criterion='mae', \n",
        "                          min_samples_leaf=4, n_jobs=-1, random_state=42)\n",
        ")\n",
        "\n",
        "pipeline.fit(x_train,y_train)\n",
        "y_pred=pipeline.predict(x_val)\n",
        "\n",
        "accuracy_test(y_val,y_pred)"
      ],
      "execution_count": 0,
      "outputs": [
        {
          "output_type": "execute_result",
          "data": {
            "text/plain": [
              "53.85894388173701"
            ]
          },
          "metadata": {
            "tags": []
          },
          "execution_count": 58
        }
      ]
    },
    {
      "cell_type": "code",
      "metadata": {
        "id": "MEwN-twuYEge",
        "colab_type": "code",
        "outputId": "3ccccab3-8fa7-42c5-efab-0026b560bc10",
        "colab": {
          "base_uri": "https://localhost:8080/",
          "height": 34
        }
      },
      "source": [
        "pipeline = make_pipeline(\n",
        "    ce.OrdinalEncoder(), \n",
        "    SimpleImputer(), \n",
        "    RandomForestRegressor(n_estimators=700, max_depth=1163, criterion='mae', \n",
        "                          min_samples_leaf=4, n_jobs=-1, random_state=42)\n",
        ")\n",
        "\n",
        "pipeline.fit(x_train,y_train)\n",
        "y_pred_test=pipeline.predict(x_test)\n",
        "\n",
        "accuracy_test(y_test,y_pred_test)"
      ],
      "execution_count": 0,
      "outputs": [
        {
          "output_type": "execute_result",
          "data": {
            "text/plain": [
              "51.69512620641655"
            ]
          },
          "metadata": {
            "tags": []
          },
          "execution_count": 60
        }
      ]
    },
    {
      "cell_type": "code",
      "metadata": {
        "id": "t8pgEYEGYFEH",
        "colab_type": "code",
        "outputId": "d6323199-fa56-441f-f134-41a8aebe9767",
        "colab": {
          "base_uri": "https://localhost:8080/",
          "height": 34
        }
      },
      "source": [
        "y_pred_train=pipeline.predict(x_train)\n",
        "\n",
        "accuracy_test(y_test,y_pred_test)"
      ],
      "execution_count": 0,
      "outputs": [
        {
          "output_type": "execute_result",
          "data": {
            "text/plain": [
              "51.69512620641655"
            ]
          },
          "metadata": {
            "tags": []
          },
          "execution_count": 61
        }
      ]
    },
    {
      "cell_type": "code",
      "metadata": {
        "id": "wWvKHqWdSdzK",
        "colab_type": "code",
        "colab": {}
      },
      "source": [
        "predictions_val = pd.concat([x_val,y_val],axis=1)\n",
        "predictions_val['predictions'] = y_pred\n",
        "predictions_test= pd.concat([x_test,y_test],axis=1)\n",
        "predictions_test['predictions']=y_pred_test\n",
        "predictions_train=pd.concat([x_train,y_train],axis=1)\n",
        "predictions_train['predictions']=y_pred_train\n",
        "predictions=pd.concat([predictions_val,predictions_test, predictions_train])"
      ],
      "execution_count": 0,
      "outputs": []
    },
    {
      "cell_type": "code",
      "metadata": {
        "id": "i1zpKcg8Yexl",
        "colab_type": "code",
        "outputId": "38cf8cb4-e64a-49ac-9f03-4bab7472a21f",
        "colab": {
          "base_uri": "https://localhost:8080/",
          "height": 289
        }
      },
      "source": [
        "predictions.head()"
      ],
      "execution_count": 0,
      "outputs": [
        {
          "output_type": "execute_result",
          "data": {
            "text/html": [
              "<div>\n",
              "<style scoped>\n",
              "    .dataframe tbody tr th:only-of-type {\n",
              "        vertical-align: middle;\n",
              "    }\n",
              "\n",
              "    .dataframe tbody tr th {\n",
              "        vertical-align: top;\n",
              "    }\n",
              "\n",
              "    .dataframe thead th {\n",
              "        text-align: right;\n",
              "    }\n",
              "</style>\n",
              "<table border=\"1\" class=\"dataframe\">\n",
              "  <thead>\n",
              "    <tr style=\"text-align: right;\">\n",
              "      <th></th>\n",
              "      <th>uploads</th>\n",
              "      <th>subscribers</th>\n",
              "      <th>videoviews</th>\n",
              "      <th>country</th>\n",
              "      <th>channeltype</th>\n",
              "      <th>grade</th>\n",
              "      <th>yearcreated</th>\n",
              "      <th>monthly_average</th>\n",
              "      <th>predictions</th>\n",
              "    </tr>\n",
              "    <tr>\n",
              "      <th>name</th>\n",
              "      <th></th>\n",
              "      <th></th>\n",
              "      <th></th>\n",
              "      <th></th>\n",
              "      <th></th>\n",
              "      <th></th>\n",
              "      <th></th>\n",
              "      <th></th>\n",
              "      <th></th>\n",
              "    </tr>\n",
              "  </thead>\n",
              "  <tbody>\n",
              "    <tr>\n",
              "      <th>Reaction Time</th>\n",
              "      <td>1378</td>\n",
              "      <td>12181503</td>\n",
              "      <td>3580937652</td>\n",
              "      <td>US</td>\n",
              "      <td>Entertainment</td>\n",
              "      <td>A</td>\n",
              "      <td>2015</td>\n",
              "      <td>192366.0</td>\n",
              "      <td>340325.222143</td>\n",
              "    </tr>\n",
              "    <tr>\n",
              "      <th>Alan Walker</th>\n",
              "      <td>173</td>\n",
              "      <td>22328931</td>\n",
              "      <td>5981936573</td>\n",
              "      <td>Other</td>\n",
              "      <td>Music</td>\n",
              "      <td>A</td>\n",
              "      <td>2012</td>\n",
              "      <td>379602.0</td>\n",
              "      <td>335795.798571</td>\n",
              "    </tr>\n",
              "    <tr>\n",
              "      <th>SelenaGomezVEVO</th>\n",
              "      <td>127</td>\n",
              "      <td>15472807</td>\n",
              "      <td>7029167647</td>\n",
              "      <td>US</td>\n",
              "      <td>Music</td>\n",
              "      <td>A-</td>\n",
              "      <td>2009</td>\n",
              "      <td>136863.0</td>\n",
              "      <td>129423.336429</td>\n",
              "    </tr>\n",
              "    <tr>\n",
              "      <th>BreakMan</th>\n",
              "      <td>231</td>\n",
              "      <td>4273094</td>\n",
              "      <td>601902717</td>\n",
              "      <td>ES</td>\n",
              "      <td>Entertainment</td>\n",
              "      <td>B</td>\n",
              "      <td>2016</td>\n",
              "      <td>42736.5</td>\n",
              "      <td>19511.173929</td>\n",
              "    </tr>\n",
              "    <tr>\n",
              "      <th>Busy Beavers - Kids Learn ABCs 123s &amp; More</th>\n",
              "      <td>647</td>\n",
              "      <td>2592635</td>\n",
              "      <td>2481784203</td>\n",
              "      <td>Other</td>\n",
              "      <td>Education</td>\n",
              "      <td>B</td>\n",
              "      <td>2007</td>\n",
              "      <td>16933.5</td>\n",
              "      <td>16249.194643</td>\n",
              "    </tr>\n",
              "  </tbody>\n",
              "</table>\n",
              "</div>"
            ],
            "text/plain": [
              "                                            uploads  ...    predictions\n",
              "name                                                 ...               \n",
              "Reaction Time                                  1378  ...  340325.222143\n",
              "Alan Walker                                     173  ...  335795.798571\n",
              "SelenaGomezVEVO                                 127  ...  129423.336429\n",
              "BreakMan                                        231  ...   19511.173929\n",
              "Busy Beavers - Kids Learn ABCs 123s & More      647  ...   16249.194643\n",
              "\n",
              "[5 rows x 9 columns]"
            ]
          },
          "metadata": {
            "tags": []
          },
          "execution_count": 69
        }
      ]
    },
    {
      "cell_type": "code",
      "metadata": {
        "id": "J1sW2lk9H0gT",
        "colab_type": "code",
        "colab": {
          "base_uri": "https://localhost:8080/",
          "height": 34
        },
        "outputId": "acae2724-9167-4252-a9e9-5df3f8282005"
      },
      "source": [
        "abs(predictions.monthly_average-predictions.predictions).mean()"
      ],
      "execution_count": 140,
      "outputs": [
        {
          "output_type": "execute_result",
          "data": {
            "text/plain": [
              "23965.307380539813"
            ]
          },
          "metadata": {
            "tags": []
          },
          "execution_count": 140
        }
      ]
    },
    {
      "cell_type": "code",
      "metadata": {
        "id": "uRIdoG4CY4e4",
        "colab_type": "code",
        "colab": {}
      },
      "source": [
        "drop=['uploads','subscribers','videoviews','country','channeltype']\n",
        "predictions=predictions.drop(columns=drop)"
      ],
      "execution_count": 0,
      "outputs": []
    },
    {
      "cell_type": "code",
      "metadata": {
        "id": "2m19wWGfZTiG",
        "colab_type": "code",
        "colab": {}
      },
      "source": [
        "graph=predictions.sample(n=15, random_state=42)"
      ],
      "execution_count": 0,
      "outputs": []
    },
    {
      "cell_type": "code",
      "metadata": {
        "id": "NwQlNr3obNrx",
        "colab_type": "code",
        "outputId": "24fb99e6-62e7-426b-d4ca-08890f29f638",
        "colab": {
          "base_uri": "https://localhost:8080/",
          "height": 545
        }
      },
      "source": [
        "graph.head(15)"
      ],
      "execution_count": 0,
      "outputs": [
        {
          "output_type": "execute_result",
          "data": {
            "text/html": [
              "<div>\n",
              "<style scoped>\n",
              "    .dataframe tbody tr th:only-of-type {\n",
              "        vertical-align: middle;\n",
              "    }\n",
              "\n",
              "    .dataframe tbody tr th {\n",
              "        vertical-align: top;\n",
              "    }\n",
              "\n",
              "    .dataframe thead th {\n",
              "        text-align: right;\n",
              "    }\n",
              "</style>\n",
              "<table border=\"1\" class=\"dataframe\">\n",
              "  <thead>\n",
              "    <tr style=\"text-align: right;\">\n",
              "      <th></th>\n",
              "      <th>grade</th>\n",
              "      <th>yearcreated</th>\n",
              "      <th>monthly_average</th>\n",
              "      <th>predictions</th>\n",
              "    </tr>\n",
              "    <tr>\n",
              "      <th>name</th>\n",
              "      <th></th>\n",
              "      <th></th>\n",
              "      <th></th>\n",
              "      <th></th>\n",
              "    </tr>\n",
              "  </thead>\n",
              "  <tbody>\n",
              "    <tr>\n",
              "      <th>Desi Nuskhe</th>\n",
              "      <td>B</td>\n",
              "      <td>2016</td>\n",
              "      <td>10755.0</td>\n",
              "      <td>13031.173929</td>\n",
              "    </tr>\n",
              "    <tr>\n",
              "      <th>SACCONEJOLYs</th>\n",
              "      <td>B</td>\n",
              "      <td>2009</td>\n",
              "      <td>9180.0</td>\n",
              "      <td>15264.466071</td>\n",
              "    </tr>\n",
              "    <tr>\n",
              "      <th>Los Juguetes Son Divertidos</th>\n",
              "      <td>A</td>\n",
              "      <td>2015</td>\n",
              "      <td>156726.0</td>\n",
              "      <td>207575.421429</td>\n",
              "    </tr>\n",
              "    <tr>\n",
              "      <th>Alhayah Series TV</th>\n",
              "      <td>A-</td>\n",
              "      <td>2013</td>\n",
              "      <td>116577.0</td>\n",
              "      <td>119675.828571</td>\n",
              "    </tr>\n",
              "    <tr>\n",
              "      <th>CiccioGamer89</th>\n",
              "      <td>B</td>\n",
              "      <td>2012</td>\n",
              "      <td>24174.0</td>\n",
              "      <td>19362.387857</td>\n",
              "    </tr>\n",
              "    <tr>\n",
              "      <th>LazarBeam</th>\n",
              "      <td>A</td>\n",
              "      <td>2015</td>\n",
              "      <td>521694.0</td>\n",
              "      <td>391471.939286</td>\n",
              "    </tr>\n",
              "    <tr>\n",
              "      <th>Sing Music Channel</th>\n",
              "      <td>A-</td>\n",
              "      <td>2011</td>\n",
              "      <td>146817.0</td>\n",
              "      <td>131311.857857</td>\n",
              "    </tr>\n",
              "    <tr>\n",
              "      <th>Cong TV</th>\n",
              "      <td>B</td>\n",
              "      <td>2008</td>\n",
              "      <td>14652.0</td>\n",
              "      <td>14248.915714</td>\n",
              "    </tr>\n",
              "    <tr>\n",
              "      <th>FV FAMILY</th>\n",
              "      <td>A</td>\n",
              "      <td>2018</td>\n",
              "      <td>475749.0</td>\n",
              "      <td>224458.135714</td>\n",
              "    </tr>\n",
              "    <tr>\n",
              "      <th>KHANDESHI MOVIES</th>\n",
              "      <td>A</td>\n",
              "      <td>2013</td>\n",
              "      <td>582075.0</td>\n",
              "      <td>360116.453571</td>\n",
              "    </tr>\n",
              "    <tr>\n",
              "      <th>Experiment at Home</th>\n",
              "      <td>B</td>\n",
              "      <td>2014</td>\n",
              "      <td>18693.0</td>\n",
              "      <td>17347.888929</td>\n",
              "    </tr>\n",
              "    <tr>\n",
              "      <th>RobTopGames</th>\n",
              "      <td>B</td>\n",
              "      <td>2012</td>\n",
              "      <td>9477.0</td>\n",
              "      <td>11896.100357</td>\n",
              "    </tr>\n",
              "    <tr>\n",
              "      <th>Crown Records</th>\n",
              "      <td>A-</td>\n",
              "      <td>2015</td>\n",
              "      <td>106083.0</td>\n",
              "      <td>123631.425000</td>\n",
              "    </tr>\n",
              "    <tr>\n",
              "      <th>Ali Baba</th>\n",
              "      <td>A</td>\n",
              "      <td>2016</td>\n",
              "      <td>344223.0</td>\n",
              "      <td>303905.372143</td>\n",
              "    </tr>\n",
              "    <tr>\n",
              "      <th>Saas Bahu Aur Betiyaan</th>\n",
              "      <td>B+</td>\n",
              "      <td>2015</td>\n",
              "      <td>81216.0</td>\n",
              "      <td>69490.118571</td>\n",
              "    </tr>\n",
              "  </tbody>\n",
              "</table>\n",
              "</div>"
            ],
            "text/plain": [
              "                            grade  yearcreated  monthly_average    predictions\n",
              "name                                                                          \n",
              "Desi Nuskhe                     B         2016          10755.0   13031.173929\n",
              "SACCONEJOLYs                    B         2009           9180.0   15264.466071\n",
              "Los Juguetes Son Divertidos     A         2015         156726.0  207575.421429\n",
              "Alhayah Series TV              A-         2013         116577.0  119675.828571\n",
              "CiccioGamer89                   B         2012          24174.0   19362.387857\n",
              "LazarBeam                       A         2015         521694.0  391471.939286\n",
              "Sing Music Channel             A-         2011         146817.0  131311.857857\n",
              "Cong TV                         B         2008          14652.0   14248.915714\n",
              "FV FAMILY                       A         2018         475749.0  224458.135714\n",
              "KHANDESHI MOVIES                A         2013         582075.0  360116.453571\n",
              "Experiment at Home              B         2014          18693.0   17347.888929\n",
              "RobTopGames                     B         2012           9477.0   11896.100357\n",
              "Crown Records                  A-         2015         106083.0  123631.425000\n",
              "Ali Baba                        A         2016         344223.0  303905.372143\n",
              "Saas Bahu Aur Betiyaan         B+         2015          81216.0   69490.118571"
            ]
          },
          "metadata": {
            "tags": []
          },
          "execution_count": 86
        }
      ]
    },
    {
      "cell_type": "code",
      "metadata": {
        "id": "WgGNGHPdZ_AO",
        "colab_type": "code",
        "outputId": "8e54c8d5-0519-4099-adb7-7a052c2f4b4f",
        "colab": {
          "base_uri": "https://localhost:8080/",
          "height": 621
        }
      },
      "source": [
        "f, ax = plt.subplots(figsize=[10,10])\n",
        "\n",
        "#plot the predictions\n",
        "sns.set_color_codes(\"pastel\")\n",
        "sns.barplot(x=\"predictions\", y=graph.index, data=graph,\n",
        "            label=\"Predictions\", color=\"b\")\n",
        "\n",
        "# Plot the actual\n",
        "sns.set_color_codes(\"muted\")\n",
        "sns.barplot(x=\"monthly_average\", y=graph.index, data=graph,\n",
        "            label=\"Actual\", color=\"b\")\n",
        "\n",
        "# Add a legend and informative axis label\n",
        "ax.legend(ncol=2, loc=\"lower right\", frameon=True)\n",
        "ax.set(xlim=(0,485000), ylabel=\"\",\n",
        "       xlabel=\"Predictions for Random Sampling from Model\",\n",
        "       title='15 Youtubers from 2019, Predictions Vs. Actual')\n",
        "sns.despine(left=True, bottom=True)\n",
        "\n",
        "plt.savefig(\"predsvsacts.png\")"
      ],
      "execution_count": 0,
      "outputs": [
        {
          "output_type": "display_data",
          "data": {
            "image/png": "[encoded data removed]",
            "text/plain": [
              "<Figure size 720x720 with 1 Axes>"
            ]
          },
          "metadata": {
            "tags": [],
            "needs_background": "light"
          }
        }
      ]
    },
    {
      "cell_type": "code",
      "metadata": {
        "id": "S11gYqDv7Poi",
        "colab_type": "code",
        "colab": {
          "base_uri": "https://localhost:8080/",
          "height": 621
        },
        "outputId": "cf872c8b-35ce-44a9-a4de-ef857d0c5f44"
      },
      "source": [
        "fig, ax = plt.subplots(figsize=[10,10])\n",
        "y=predictions_test.monthly_average\n",
        "predicted=predictions_test.predictions\n",
        "\n",
        "ax.scatter(y, predicted, c='#e74c3c') \n",
        "ax.plot([y.min(), y.max()], [y.min(), y.max()], 'k--', lw=4)\n",
        "ax.set_xlabel('Measured')\n",
        "ax.set_ylabel('Predicted')\n",
        "ax.set(title='Random Predicted vs Actual')\n",
        "fig.savefig(\"predvsactline.png\")\n",
        "plt.show()\n"
      ],
      "execution_count": 125,
      "outputs": [
        {
          "output_type": "display_data",
          "data": {
            "image/png": "[encoded data removed]",
            "text/plain": [
              "<Figure size 720x720 with 1 Axes>"
            ]
          },
          "metadata": {
            "tags": [],
            "needs_background": "light"
          }
        }
      ]
    },
    {
      "cell_type": "code",
      "metadata": {
        "id": "m-V71IgHBsHH",
        "colab_type": "code",
        "colab": {
          "base_uri": "https://localhost:8080/",
          "height": 964
        },
        "outputId": "cfd9e10c-12d8-4522-eb85-0330d45890b8"
      },
      "source": [
        "names=graph.name\n",
        "plt.plot(graph.predictions)\n",
        "plt.plot(graph.monthly_average)\n",
        "plt.xlabel('Predictions Vs Actuals')\n",
        "plt.xticks(ticks=names,labels=None)\n",
        "\n",
        "plt.savefig(\"predsvsactsboth.png\")"
      ],
      "execution_count": 138,
      "outputs": [
        {
          "output_type": "error",
          "ename": "ConversionError",
          "evalue": "ignored",
          "traceback": [
            "\u001b[0;31m---------------------------------------------------------------------------\u001b[0m",
            "\u001b[0;31mValueError\u001b[0m                                Traceback (most recent call last)",
            "\u001b[0;32m/usr/local/lib/python3.6/dist-packages/matplotlib/axis.py\u001b[0m in \u001b[0;36mconvert_units\u001b[0;34m(self, x)\u001b[0m\n\u001b[1;32m   1572\u001b[0m         \u001b[0;32mtry\u001b[0m\u001b[0;34m:\u001b[0m\u001b[0;34m\u001b[0m\u001b[0;34m\u001b[0m\u001b[0m\n\u001b[0;32m-> 1573\u001b[0;31m             \u001b[0mret\u001b[0m \u001b[0;34m=\u001b[0m \u001b[0mself\u001b[0m\u001b[0;34m.\u001b[0m\u001b[0mconverter\u001b[0m\u001b[0;34m.\u001b[0m\u001b[0mconvert\u001b[0m\u001b[0;34m(\u001b[0m\u001b[0mx\u001b[0m\u001b[0;34m,\u001b[0m \u001b[0mself\u001b[0m\u001b[0;34m.\u001b[0m\u001b[0munits\u001b[0m\u001b[0;34m,\u001b[0m \u001b[0mself\u001b[0m\u001b[0;34m)\u001b[0m\u001b[0;34m\u001b[0m\u001b[0;34m\u001b[0m\u001b[0m\n\u001b[0m\u001b[1;32m   1574\u001b[0m         \u001b[0;32mexcept\u001b[0m \u001b[0mException\u001b[0m \u001b[0;32mas\u001b[0m \u001b[0me\u001b[0m\u001b[0;34m:\u001b[0m\u001b[0;34m\u001b[0m\u001b[0;34m\u001b[0m\u001b[0m\n",
            "\u001b[0;32m/usr/local/lib/python3.6/dist-packages/matplotlib/category.py\u001b[0m in \u001b[0;36mconvert\u001b[0;34m(value, unit, axis)\u001b[0m\n\u001b[1;32m     49\u001b[0m             raise ValueError(\n\u001b[0;32m---> 50\u001b[0;31m                 \u001b[0;34m'Missing category information for StrCategoryConverter; '\u001b[0m\u001b[0;34m\u001b[0m\u001b[0;34m\u001b[0m\u001b[0m\n\u001b[0m\u001b[1;32m     51\u001b[0m                 \u001b[0;34m'this might be caused by unintendedly mixing categorical and '\u001b[0m\u001b[0;34m\u001b[0m\u001b[0;34m\u001b[0m\u001b[0m\n",
            "\u001b[0;31mValueError\u001b[0m: Missing category information for StrCategoryConverter; this might be caused by unintendedly mixing categorical and numeric data",
            "\nThe above exception was the direct cause of the following exception:\n",
            "\u001b[0;31mConversionError\u001b[0m                           Traceback (most recent call last)",
            "\u001b[0;32m<ipython-input-138-dc43535e4d6c>\u001b[0m in \u001b[0;36m<module>\u001b[0;34m()\u001b[0m\n\u001b[1;32m      3\u001b[0m \u001b[0mplt\u001b[0m\u001b[0;34m.\u001b[0m\u001b[0mplot\u001b[0m\u001b[0;34m(\u001b[0m\u001b[0mgraph\u001b[0m\u001b[0;34m.\u001b[0m\u001b[0mmonthly_average\u001b[0m\u001b[0;34m)\u001b[0m\u001b[0;34m\u001b[0m\u001b[0;34m\u001b[0m\u001b[0m\n\u001b[1;32m      4\u001b[0m \u001b[0mplt\u001b[0m\u001b[0;34m.\u001b[0m\u001b[0mxlabel\u001b[0m\u001b[0;34m(\u001b[0m\u001b[0;34m'Predictions Vs Actuals'\u001b[0m\u001b[0;34m)\u001b[0m\u001b[0;34m\u001b[0m\u001b[0;34m\u001b[0m\u001b[0m\n\u001b[0;32m----> 5\u001b[0;31m \u001b[0mplt\u001b[0m\u001b[0;34m.\u001b[0m\u001b[0mxticks\u001b[0m\u001b[0;34m(\u001b[0m\u001b[0mticks\u001b[0m\u001b[0;34m=\u001b[0m\u001b[0mnames\u001b[0m\u001b[0;34m,\u001b[0m\u001b[0mlabels\u001b[0m\u001b[0;34m=\u001b[0m\u001b[0;32mNone\u001b[0m\u001b[0;34m)\u001b[0m\u001b[0;34m\u001b[0m\u001b[0;34m\u001b[0m\u001b[0m\n\u001b[0m\u001b[1;32m      6\u001b[0m \u001b[0;34m\u001b[0m\u001b[0m\n\u001b[1;32m      7\u001b[0m \u001b[0mplt\u001b[0m\u001b[0;34m.\u001b[0m\u001b[0msavefig\u001b[0m\u001b[0;34m(\u001b[0m\u001b[0;34m\"predsvsactsboth.png\"\u001b[0m\u001b[0;34m)\u001b[0m\u001b[0;34m\u001b[0m\u001b[0;34m\u001b[0m\u001b[0m\n",
            "\u001b[0;32m/usr/local/lib/python3.6/dist-packages/matplotlib/pyplot.py\u001b[0m in \u001b[0;36mxticks\u001b[0;34m(ticks, labels, **kwargs)\u001b[0m\n\u001b[1;32m   1481\u001b[0m         \u001b[0mlabels\u001b[0m \u001b[0;34m=\u001b[0m \u001b[0max\u001b[0m\u001b[0;34m.\u001b[0m\u001b[0mget_xticklabels\u001b[0m\u001b[0;34m(\u001b[0m\u001b[0;34m)\u001b[0m\u001b[0;34m\u001b[0m\u001b[0;34m\u001b[0m\u001b[0m\n\u001b[1;32m   1482\u001b[0m     \u001b[0;32melif\u001b[0m \u001b[0mlabels\u001b[0m \u001b[0;32mis\u001b[0m \u001b[0;32mNone\u001b[0m\u001b[0;34m:\u001b[0m\u001b[0;34m\u001b[0m\u001b[0;34m\u001b[0m\u001b[0m\n\u001b[0;32m-> 1483\u001b[0;31m         \u001b[0mlocs\u001b[0m \u001b[0;34m=\u001b[0m \u001b[0max\u001b[0m\u001b[0;34m.\u001b[0m\u001b[0mset_xticks\u001b[0m\u001b[0;34m(\u001b[0m\u001b[0mticks\u001b[0m\u001b[0;34m)\u001b[0m\u001b[0;34m\u001b[0m\u001b[0;34m\u001b[0m\u001b[0m\n\u001b[0m\u001b[1;32m   1484\u001b[0m         \u001b[0mlabels\u001b[0m \u001b[0;34m=\u001b[0m \u001b[0max\u001b[0m\u001b[0;34m.\u001b[0m\u001b[0mget_xticklabels\u001b[0m\u001b[0;34m(\u001b[0m\u001b[0;34m)\u001b[0m\u001b[0;34m\u001b[0m\u001b[0;34m\u001b[0m\u001b[0m\n\u001b[1;32m   1485\u001b[0m     \u001b[0;32melse\u001b[0m\u001b[0;34m:\u001b[0m\u001b[0;34m\u001b[0m\u001b[0;34m\u001b[0m\u001b[0m\n",
            "\u001b[0;32m/usr/local/lib/python3.6/dist-packages/matplotlib/cbook/deprecation.py\u001b[0m in \u001b[0;36mwrapper\u001b[0;34m(*args, **kwargs)\u001b[0m\n\u001b[1;32m    398\u001b[0m                 \u001b[0;34m\"parameter will become keyword-only %(removal)s.\"\u001b[0m\u001b[0;34m,\u001b[0m\u001b[0;34m\u001b[0m\u001b[0;34m\u001b[0m\u001b[0m\n\u001b[1;32m    399\u001b[0m                 name=name, obj_type=f\"parameter of {func.__name__}()\")\n\u001b[0;32m--> 400\u001b[0;31m         \u001b[0;32mreturn\u001b[0m \u001b[0mfunc\u001b[0m\u001b[0;34m(\u001b[0m\u001b[0;34m*\u001b[0m\u001b[0margs\u001b[0m\u001b[0;34m,\u001b[0m \u001b[0;34m**\u001b[0m\u001b[0mkwargs\u001b[0m\u001b[0;34m)\u001b[0m\u001b[0;34m\u001b[0m\u001b[0;34m\u001b[0m\u001b[0m\n\u001b[0m\u001b[1;32m    401\u001b[0m \u001b[0;34m\u001b[0m\u001b[0m\n\u001b[1;32m    402\u001b[0m     \u001b[0;32mreturn\u001b[0m \u001b[0mwrapper\u001b[0m\u001b[0;34m\u001b[0m\u001b[0;34m\u001b[0m\u001b[0m\n",
            "\u001b[0;32m/usr/local/lib/python3.6/dist-packages/matplotlib/axes/_base.py\u001b[0m in \u001b[0;36mset_xticks\u001b[0;34m(self, ticks, minor)\u001b[0m\n\u001b[1;32m   3304\u001b[0m             \u001b[0mDefault\u001b[0m \u001b[0;32mis\u001b[0m\u001b[0;31m \u001b[0m\u001b[0;31m`\u001b[0m\u001b[0;31m`\u001b[0m\u001b[0;32mFalse\u001b[0m\u001b[0;31m`\u001b[0m\u001b[0;31m`\u001b[0m\u001b[0;34m.\u001b[0m\u001b[0;34m\u001b[0m\u001b[0;34m\u001b[0m\u001b[0m\n\u001b[1;32m   3305\u001b[0m         \"\"\"\n\u001b[0;32m-> 3306\u001b[0;31m         \u001b[0mret\u001b[0m \u001b[0;34m=\u001b[0m \u001b[0mself\u001b[0m\u001b[0;34m.\u001b[0m\u001b[0mxaxis\u001b[0m\u001b[0;34m.\u001b[0m\u001b[0mset_ticks\u001b[0m\u001b[0;34m(\u001b[0m\u001b[0mticks\u001b[0m\u001b[0;34m,\u001b[0m \u001b[0mminor\u001b[0m\u001b[0;34m=\u001b[0m\u001b[0mminor\u001b[0m\u001b[0;34m)\u001b[0m\u001b[0;34m\u001b[0m\u001b[0;34m\u001b[0m\u001b[0m\n\u001b[0m\u001b[1;32m   3307\u001b[0m         \u001b[0mself\u001b[0m\u001b[0;34m.\u001b[0m\u001b[0mstale\u001b[0m \u001b[0;34m=\u001b[0m \u001b[0;32mTrue\u001b[0m\u001b[0;34m\u001b[0m\u001b[0;34m\u001b[0m\u001b[0m\n\u001b[1;32m   3308\u001b[0m         \u001b[0;32mreturn\u001b[0m \u001b[0mret\u001b[0m\u001b[0;34m\u001b[0m\u001b[0;34m\u001b[0m\u001b[0m\n",
            "\u001b[0;32m/usr/local/lib/python3.6/dist-packages/matplotlib/cbook/deprecation.py\u001b[0m in \u001b[0;36mwrapper\u001b[0;34m(*args, **kwargs)\u001b[0m\n\u001b[1;32m    398\u001b[0m                 \u001b[0;34m\"parameter will become keyword-only %(removal)s.\"\u001b[0m\u001b[0;34m,\u001b[0m\u001b[0;34m\u001b[0m\u001b[0;34m\u001b[0m\u001b[0m\n\u001b[1;32m    399\u001b[0m                 name=name, obj_type=f\"parameter of {func.__name__}()\")\n\u001b[0;32m--> 400\u001b[0;31m         \u001b[0;32mreturn\u001b[0m \u001b[0mfunc\u001b[0m\u001b[0;34m(\u001b[0m\u001b[0;34m*\u001b[0m\u001b[0margs\u001b[0m\u001b[0;34m,\u001b[0m \u001b[0;34m**\u001b[0m\u001b[0mkwargs\u001b[0m\u001b[0;34m)\u001b[0m\u001b[0;34m\u001b[0m\u001b[0;34m\u001b[0m\u001b[0m\n\u001b[0m\u001b[1;32m    401\u001b[0m \u001b[0;34m\u001b[0m\u001b[0m\n\u001b[1;32m    402\u001b[0m     \u001b[0;32mreturn\u001b[0m \u001b[0mwrapper\u001b[0m\u001b[0;34m\u001b[0m\u001b[0;34m\u001b[0m\u001b[0m\n",
            "\u001b[0;32m/usr/local/lib/python3.6/dist-packages/matplotlib/axis.py\u001b[0m in \u001b[0;36mset_ticks\u001b[0;34m(self, ticks, minor)\u001b[0m\n\u001b[1;32m   1759\u001b[0m         \"\"\"\n\u001b[1;32m   1760\u001b[0m         \u001b[0;31m# XXX if the user changes units, the information will be lost here\u001b[0m\u001b[0;34m\u001b[0m\u001b[0;34m\u001b[0m\u001b[0;34m\u001b[0m\u001b[0m\n\u001b[0;32m-> 1761\u001b[0;31m         \u001b[0mticks\u001b[0m \u001b[0;34m=\u001b[0m \u001b[0mself\u001b[0m\u001b[0;34m.\u001b[0m\u001b[0mconvert_units\u001b[0m\u001b[0;34m(\u001b[0m\u001b[0mticks\u001b[0m\u001b[0;34m)\u001b[0m\u001b[0;34m\u001b[0m\u001b[0;34m\u001b[0m\u001b[0m\n\u001b[0m\u001b[1;32m   1762\u001b[0m         \u001b[0;32mif\u001b[0m \u001b[0mlen\u001b[0m\u001b[0;34m(\u001b[0m\u001b[0mticks\u001b[0m\u001b[0;34m)\u001b[0m \u001b[0;34m>\u001b[0m \u001b[0;36m1\u001b[0m\u001b[0;34m:\u001b[0m\u001b[0;34m\u001b[0m\u001b[0;34m\u001b[0m\u001b[0m\n\u001b[1;32m   1763\u001b[0m             \u001b[0mxleft\u001b[0m\u001b[0;34m,\u001b[0m \u001b[0mxright\u001b[0m \u001b[0;34m=\u001b[0m \u001b[0mself\u001b[0m\u001b[0;34m.\u001b[0m\u001b[0mget_view_interval\u001b[0m\u001b[0;34m(\u001b[0m\u001b[0;34m)\u001b[0m\u001b[0;34m\u001b[0m\u001b[0;34m\u001b[0m\u001b[0m\n",
            "\u001b[0;32m/usr/local/lib/python3.6/dist-packages/matplotlib/axis.py\u001b[0m in \u001b[0;36mconvert_units\u001b[0;34m(self, x)\u001b[0m\n\u001b[1;32m   1574\u001b[0m         \u001b[0;32mexcept\u001b[0m \u001b[0mException\u001b[0m \u001b[0;32mas\u001b[0m \u001b[0me\u001b[0m\u001b[0;34m:\u001b[0m\u001b[0;34m\u001b[0m\u001b[0;34m\u001b[0m\u001b[0m\n\u001b[1;32m   1575\u001b[0m             raise munits.ConversionError('Failed to convert value(s) to axis '\n\u001b[0;32m-> 1576\u001b[0;31m                                          f'units: {x!r}') from e\n\u001b[0m\u001b[1;32m   1577\u001b[0m         \u001b[0;32mreturn\u001b[0m \u001b[0mret\u001b[0m\u001b[0;34m\u001b[0m\u001b[0;34m\u001b[0m\u001b[0m\n\u001b[1;32m   1578\u001b[0m \u001b[0;34m\u001b[0m\u001b[0m\n",
            "\u001b[0;31mConversionError\u001b[0m: Failed to convert value(s) to axis units: 0                     Desi Nuskhe\n1                    SACCONEJOLYs\n2     Los Juguetes Son Divertidos\n3               Alhayah Series TV\n4                   CiccioGamer89\n5                       LazarBeam\n6              Sing Music Channel\n7                         Cong TV\n8                       FV FAMILY\n9                KHANDESHI MOVIES\n10             Experiment at Home\n11                    RobTopGames\n12                  Crown Records\n13                       Ali Baba\n14         Saas Bahu Aur Betiyaan\nName: name, dtype: object"
          ]
        },
        {
          "output_type": "display_data",
          "data": {
            "image/png": "[encoded data removed]",
            "text/plain": [
              "<Figure size 432x288 with 1 Axes>"
            ]
          },
          "metadata": {
            "tags": [],
            "needs_background": "light"
          }
        }
      ]
    },
    {
      "cell_type": "code",
      "metadata": {
        "id": "rx3MnD5AvOIN",
        "colab_type": "code",
        "colab": {
          "base_uri": "https://localhost:8080/",
          "height": 232
        },
        "outputId": "cfb48489-6a07-4bfa-a8c4-38a1d0de7341"
      },
      "source": [
        "features=['grade','subscribers']\n",
        "pdp = interaction.pdp.pivot_table(\n",
        "    values='preds', \n",
        "    columns=features[0], # First feature on x axis\n",
        "    index=features[1]    # Next feature on y axis\n",
        ")[::-1]  # Reverse the index order so y axis is ascending\n",
        "\n",
        "pdp = pdp.rename(columns=dict(zip(category_codes, category_names)))\n",
        "plt.figure(figsize=(10,8))\n",
        "sns.heatmap(pdp, annot=True, fmt='.2f', cmap='viridis')\n",
        "plt.title('Partial Dependence of Yearly Highend Salary Range on Youtube based on ')\n",
        "pdp.plt.savefig('subscribersandgrade.png', dpi=200)\n",
        "plt.show()"
      ],
      "execution_count": 121,
      "outputs": [
        {
          "output_type": "error",
          "ename": "NameError",
          "evalue": "ignored",
          "traceback": [
            "\u001b[0;31m---------------------------------------------------------------------------\u001b[0m",
            "\u001b[0;31mNameError\u001b[0m                                 Traceback (most recent call last)",
            "\u001b[0;32m<ipython-input-121-3d663effe18e>\u001b[0m in \u001b[0;36m<module>\u001b[0;34m()\u001b[0m\n\u001b[1;32m      1\u001b[0m \u001b[0mfeatures\u001b[0m\u001b[0;34m=\u001b[0m\u001b[0;34m[\u001b[0m\u001b[0;34m'grade'\u001b[0m\u001b[0;34m,\u001b[0m\u001b[0;34m'subscribers'\u001b[0m\u001b[0;34m]\u001b[0m\u001b[0;34m\u001b[0m\u001b[0;34m\u001b[0m\u001b[0m\n\u001b[0;32m----> 2\u001b[0;31m pdp = interaction.pdp.pivot_table(\n\u001b[0m\u001b[1;32m      3\u001b[0m     \u001b[0mvalues\u001b[0m\u001b[0;34m=\u001b[0m\u001b[0;34m'preds'\u001b[0m\u001b[0;34m,\u001b[0m\u001b[0;34m\u001b[0m\u001b[0;34m\u001b[0m\u001b[0m\n\u001b[1;32m      4\u001b[0m     \u001b[0mcolumns\u001b[0m\u001b[0;34m=\u001b[0m\u001b[0mfeatures\u001b[0m\u001b[0;34m[\u001b[0m\u001b[0;36m0\u001b[0m\u001b[0;34m]\u001b[0m\u001b[0;34m,\u001b[0m \u001b[0;31m# First feature on x axis\u001b[0m\u001b[0;34m\u001b[0m\u001b[0;34m\u001b[0m\u001b[0m\n\u001b[1;32m      5\u001b[0m     \u001b[0mindex\u001b[0m\u001b[0;34m=\u001b[0m\u001b[0mfeatures\u001b[0m\u001b[0;34m[\u001b[0m\u001b[0;36m1\u001b[0m\u001b[0;34m]\u001b[0m    \u001b[0;31m# Next feature on y axis\u001b[0m\u001b[0;34m\u001b[0m\u001b[0;34m\u001b[0m\u001b[0m\n",
            "\u001b[0;31mNameError\u001b[0m: name 'interaction' is not defined"
          ]
        }
      ]
    },
    {
      "cell_type": "code",
      "metadata": {
        "id": "CE3EjbtlAtFU",
        "colab_type": "code",
        "colab": {}
      },
      "source": [
        ""
      ],
      "execution_count": 0,
      "outputs": []
    }
  ]
}